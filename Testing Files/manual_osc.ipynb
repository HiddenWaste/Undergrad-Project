{
 "cells": [
  {
   "cell_type": "code",
   "execution_count": 1,
   "metadata": {},
   "outputs": [],
   "source": [
    "from pythonosc import udp_client\n",
    "import serial\n",
    "import serial.tools.list_ports\n",
    "import time\n",
    "import random\n",
    "import sys\n",
    "from typing import Optional"
   ]
  },
  {
   "cell_type": "code",
   "execution_count": 3,
   "metadata": {},
   "outputs": [],
   "source": [
    "processing_port = 12000\n",
    "sc_port = 57120\n",
    "\n",
    "processing_client = udp_client.SimpleUDPClient(\"127.0.0.1\", processing_port)\n",
    "sc_client = udp_client.SimpleUDPClient(\"127.0.0.1\", sc_port)"
   ]
  },
  {
   "cell_type": "markdown",
   "metadata": {},
   "source": [
    "# Ambient Evolving Workspace"
   ]
  },
  {
   "cell_type": "code",
   "execution_count": 36,
   "metadata": {},
   "outputs": [],
   "source": [
    "# Format: [index, gate, synthType, freq, amp, pan]\n",
    "# Example to start FM synth:\n",
    "sc_client.send_message(\"/synthControl\", [2, 1, \"fmSynth\", 440, 0.2, 0])"
   ]
  },
  {
   "cell_type": "code",
   "execution_count": 37,
   "metadata": {},
   "outputs": [],
   "source": [
    "# To stop it:\n",
    "sc_client.send_message(\"/synthControl\", [2, 0, \"fmSynth\"])"
   ]
  },
  {
   "cell_type": "markdown",
   "metadata": {},
   "source": [
    "### Granular Synth \n",
    "- creates cloudy, textural sounds\n",
    "- Great for background atmosphere and evolving textures"
   ]
  },
  {
   "cell_type": "code",
   "execution_count": 30,
   "metadata": {},
   "outputs": [],
   "source": [
    "sc_client.send_message(\"/synthControl\", [6, 0, \"granular\", 330, 0.25, 0])    # Mid-range texture"
   ]
  },
  {
   "cell_type": "code",
   "execution_count": 35,
   "metadata": {},
   "outputs": [],
   "source": [
    "sc_client.send_message(\"/synthControl\", [4, 0, \"noiseScape\", 2000, 0.15, 0.3])  # High airy texture"
   ]
  },
  {
   "cell_type": "code",
   "execution_count": null,
   "metadata": {},
   "outputs": [],
   "source": []
  }
 ],
 "metadata": {
  "kernelspec": {
   "display_name": "Python 3",
   "language": "python",
   "name": "python3"
  },
  "language_info": {
   "codemirror_mode": {
    "name": "ipython",
    "version": 3
   },
   "file_extension": ".py",
   "mimetype": "text/x-python",
   "name": "python",
   "nbconvert_exporter": "python",
   "pygments_lexer": "ipython3",
   "version": "3.12.5"
  }
 },
 "nbformat": 4,
 "nbformat_minor": 2
}
